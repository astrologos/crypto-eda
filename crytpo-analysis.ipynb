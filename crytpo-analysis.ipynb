{
 "cells": [
  {
   "cell_type": "code",
   "execution_count": null,
   "metadata": {},
   "outputs": [],
   "source": [
    "# Includes\n",
    "# os\n",
    "import os\n",
    "from time import sleep\n",
    "import datetime\n",
    "from datetime import timezone\n",
    "\n",
    "# websockets and connectivity\n",
    "from binance.websockets import BinanceSocketManager\n",
    "from twisted.internet import reactor\n",
    "\n",
    "# interactive shell\n",
    "from IPython.core.interactiveshell import InteractiveShell\n",
    "InteractiveShell.ast_node_interactivity = \"all\"\n",
    "\n",
    "# binance\n",
    "from binance.client import Client\n",
    "import binance.helpers as btime\n",
    "\n",
    "# pandas\n",
    "import pandas as pd\n",
    "from pandas import DataFrame as df\n",
    "pd.set_option(\"display.max_rows\", 100, \"display.max_columns\", None)\n",
    "pd.set_option('display.float_format', lambda x: '%.5f' % x)\n",
    "\n",
    "\n",
    "# numpy\n",
    "import numpy as np\n",
    "\n",
    "# plotting\n",
    "from matplotlib import pyplot as plt\n",
    "import seaborn as sb\n",
    "from mpl_toolkits.mplot3d import Axes3D\n",
    "\n",
    "# data science utils\n",
    "from scipy import stats\n",
    "from scipy import fft\n",
    "from scipy import signal\n",
    "import statsmodels.api as sm\n",
    "import tensorflow as tf\n",
    "from tensorflow import keras\n",
    "from tensorflow.keras import layers\n",
    "import pingouin as pg\n",
    "\n",
    "\n"
   ]
  },
  {
   "cell_type": "code",
   "execution_count": null,
   "metadata": {},
   "outputs": [],
   "source": [
    "# Load api login data\n",
    "\n",
    "# open api login file\n",
    "apifile = open(\"apilogin.txt\", \"r\");\n",
    "apilogin = (str(apifile.read()).split(\"\\n\"));\n",
    "\n",
    "# extract key\n",
    "apikey = apilogin[0].split(\":\")[1];\n",
    "# extract secret\n",
    "apisecret = apilogin[1].split(\":\")[1];\n",
    "\n",
    "# check values\n",
    "\"key: \" + apikey;\n",
    "\"secret: \" + apisecret;\n",
    "\n",
    "client=Client(api_key=apikey,api_secret=apisecret);"
   ]
  },
  {
   "cell_type": "code",
   "execution_count": null,
   "metadata": {},
   "outputs": [],
   "source": [
    "# define trade pair\n",
    "base_asset = 'BTC'\n",
    "quote_asset = 'USDT'\n",
    "trade_pair = base_asset+quote_asset\n",
    "\n",
    "# define request interval\n",
    "time_interval = Client.KLINE_INTERVAL_1MINUTE\n",
    "\n",
    "# define initial start as utc timestamp\n",
    "start_time = btime.date_to_milliseconds('Jan 1, 2020')\n",
    "\n",
    "# request initial historical data\n",
    "candles = client.get_historical_klines(symbol=trade_pair,interval=time_interval, start_str=start_time,limit=1000)\n"
   ]
  },
  {
   "cell_type": "code",
   "execution_count": null,
   "metadata": {},
   "outputs": [],
   "source": [
    "len(candles)\n",
    "# Verify the last known data point is today\n",
    "end_unix_timestamp = candles[-1][0]/1000\n",
    "datetime.datetime.fromtimestamp(end_unix_timestamp)"
   ]
  },
  {
   "cell_type": "code",
   "execution_count": null,
   "metadata": {},
   "outputs": [],
   "source": [
    "# Dynamically name headers\n",
    "kline_headers = ['Open Time UTC', \n",
    "    'Open ' + quote_asset, \n",
    "    'High ' + quote_asset, \n",
    "    'Low ' + quote_asset, \n",
    "    'Close ' + quote_asset, \n",
    "    'Volume ' + base_asset, \n",
    "    'Close Time UTC', \n",
    "    'Volume ' + quote_asset, \n",
    "    'Number of Trades',\n",
    "    'Taker Buy Volume ' + base_asset,\n",
    "    'Taker Buy Volume ' + quote_asset]\n",
    "kline_headers"
   ]
  },
  {
   "cell_type": "code",
   "execution_count": null,
   "metadata": {},
   "outputs": [],
   "source": [
    "# Create key-value pairs for each column and associated numpy dtype\n",
    "typedict = {\n",
    "    kline_headers[0]: np.uint64,\n",
    "    kline_headers[1]: np.float32,\n",
    "    kline_headers[2]: np.float32,\n",
    "    kline_headers[3]: np.float32,\n",
    "    kline_headers[4]: np.float32,\n",
    "    kline_headers[5]: np.float32,\n",
    "    kline_headers[6]: np.uint64,\n",
    "    kline_headers[7]: np.float32,\n",
    "    kline_headers[8]: np.float32,\n",
    "    kline_headers[9]: np.float32,\n",
    "    kline_headers[10]: np.float32,\n",
    "}\n",
    "\n",
    "# Instantiate klines dataframe and assign dtypes via dictionary\n",
    "klines = df(data=[entry[:-1] for entry in candles], columns=kline_headers).astype(typedict)\n",
    "\n",
    "# Sort klines dataframe by ascending UTC open\n",
    "klines.sort_values(by=['Open Time UTC'], ascending=True, inplace=True)\n",
    "\n",
    "# Assign open UTC as index\n",
    "klines.index = klines['Open Time UTC']\n",
    "\n",
    "klines.dtypes\n",
    "\n",
    "klines.head()"
   ]
  },
  {
   "cell_type": "code",
   "execution_count": null,
   "metadata": {},
   "outputs": [],
   "source": [
    "# calculate close-open differences for each period\n",
    "klines['Difference ' + quote_asset] = klines['Close ' + quote_asset]-klines['Open ' + quote_asset]\n",
    "klines['Percent Change ' + quote_asset] = 100 * klines['Difference ' + quote_asset] / klines['Open ' + quote_asset]\n",
    "klines.head()"
   ]
  },
  {
   "cell_type": "code",
   "execution_count": null,
   "metadata": {},
   "outputs": [],
   "source": [
    "# create Maker-Taker ratio\n",
    "klines['Maker-Taker Volume ' + quote_asset + ' Ratio'] = ((klines['Volume ' + quote_asset] - klines['Taker Buy Volume ' + quote_asset]) / klines['Volume ' + quote_asset])\n",
    "\n",
    "# create generic Ratios\n",
    "klines['Price-Volume ' + quote_asset + ' Ratio'] = klines['Open ' + quote_asset] / klines['Volume ' + quote_asset]\n",
    "klines['Trade-Volume ' + quote_asset + ' Ratio'] = klines['Number of Trades']/klines['Volume ' + quote_asset]\n",
    "klines['Price-Taker Buy Volume ' + quote_asset + ' Ratio'] = klines['Open ' + quote_asset] / klines['Taker Buy Volume ' + quote_asset]\n",
    "klines['Trade-Taker Buy Volume ' + quote_asset + ' Ratio'] = klines['Number of Trades']/klines['Taker Buy Volume ' + quote_asset]"
   ]
  },
  {
   "cell_type": "markdown",
   "metadata": {},
   "source": [
    "# Create multiple diffs\n",
    "klines_diff_1 = klines.diff(axis='index',periods=1)\n",
    "klines_diff_1.columns = ['DIFF 1 ' + colname for colname in klines.columns]\n",
    "klines_diff_1.drop(columns=[klines_diff_1.columns[0], klines_diff_1.columns[6]], inplace=True)\n",
    "\n",
    "klines_diff_2 = klines.diff(axis='index',periods=2)\n",
    "klines_diff_2.columns = ['DIFF 2 ' + colname for colname in klines.columns]\n",
    "klines_diff_2.drop(columns=[klines_diff_2.columns[0], klines_diff_2.columns[6]], inplace=True)\n",
    "\n",
    "klines_diff_3 = klines.diff(axis='index',periods=3)\n",
    "klines_diff_3.columns = ['DIFF 3 ' + colname for colname in klines.columns]\n",
    "klines_diff_3.drop(columns=[klines_diff_3.columns[0], klines_diff_3.columns[6]], inplace=True)\n"
   ]
  },
  {
   "cell_type": "markdown",
   "metadata": {},
   "source": [
    "klines = klines.join(klines_diff_1,how='inner').join(klines_diff_2,how='inner').join(klines_diff_3,how='inner')\n",
    "klines.head()"
   ]
  },
  {
   "cell_type": "code",
   "execution_count": null,
   "metadata": {},
   "outputs": [],
   "source": [
    "# Verify no NaNs except in first three rows, then remove them in place\n",
    "klines[klines.isna().any(axis=1)].head()\n",
    "klines[klines.isna().any(axis=1)].shape\n",
    "klines.drop(axis='index', labels=klines[klines.isna().any(axis=1)]['Open Time UTC'].values.tolist(),inplace=True)\n"
   ]
  },
  {
   "cell_type": "code",
   "execution_count": null,
   "metadata": {},
   "outputs": [],
   "source": []
  },
  {
   "cell_type": "code",
   "execution_count": null,
   "metadata": {},
   "outputs": [],
   "source": [
    "# Create df for price data only\n",
    "price_df = df(klines['Open ' + quote_asset])\n",
    "price_df.columns=['Price']\n",
    "price_df.head()\n",
    "\n",
    "# start with 1st order linear model\n",
    "time_idx = price_df.index.to_numpy()\n",
    "price = price_df.Price.to_numpy()\n",
    "order1_regression = stats.linregress(time_idx,price)\n",
    "order1_prediction = order1_regression.intercept + order1_regression.slope*time_idx\n",
    "order1_residual = price-order1_prediction"
   ]
  },
  {
   "cell_type": "code",
   "execution_count": null,
   "metadata": {},
   "outputs": [],
   "source": [
    "# Graph true price vs 1st order approximation\n",
    "plt.figure(figsize=(22,6))\n",
    "plt.plot(time_idx, price)\n",
    "plt.plot(time_idx, order1_prediction)\n",
    "\n",
    "# Graph 1st order residual \n",
    "plt.figure(figsize=(22,6))\n",
    "plt.plot(time_idx, order1_residual)"
   ]
  },
  {
   "cell_type": "code",
   "execution_count": null,
   "metadata": {},
   "outputs": [],
   "source": [
    "# remove DC component of order 1 residual\n",
    "order1_residual = order1_residual - np.mean(order1_residual)\n",
    "\n",
    "# n = signal length\n",
    "n = price.size\n",
    "\n",
    "# T = spacing\n",
    "timestep = 1/(24*60) # unit is days"
   ]
  },
  {
   "cell_type": "code",
   "execution_count": null,
   "metadata": {},
   "outputs": [],
   "source": [
    "# Raw signal DCT\n",
    "price_fft = fft.dct(order1_residual,norm=None)[1:n//2] # cosine amplitude of price signal \n",
    "fft_freq = fft.fftfreq(n, timestep)[1:n//2]*7 # cycles per week\n",
    "fft_period = 1/fft_freq # period in weeks\n",
    "\n",
    "# Plot DCT by wavelength\n",
    "plt.figure(figsize=(24,8))\n",
    "ax = plt.gca()\n",
    "ax.plot(fft_period, (2.0/n * np.abs(price_fft)),linewidth=1,marker='o')\n",
    "#ax.xaxis.set_major_locator(plt.MultipleLocator(0.1))\n",
    "plt.grid()\n",
    "plt.title('Discrete Cosine Transform: ' + base_asset + '-' + quote_asset)\n",
    "plt.ylabel('Price Amplitude')\n",
    "plt.xlabel('Period (weeks)')\n",
    "\n",
    "# Plot DCT by frequency\n",
    "plt.figure(figsize=(24,8));\n",
    "ax = plt.gca();\n",
    "ax.plot(fft_freq[:], (2.0/n * np.abs(price_fft[:])),linewidth=1);\n",
    "plt.grid();\n",
    "plt.title('Discrete Cosine Transform: ' + base_asset + '-' + quote_asset);\n",
    "plt.ylabel('Price Amplitude');\n",
    "plt.xlabel('Cycles/Week');"
   ]
  },
  {
   "cell_type": "markdown",
   "metadata": {},
   "source": [
    "# Raw signal\n",
    "order0_residual = price-np.mean(price) # remove DC component\n",
    "ac_residual = np.correlate(order0_residual, order0_residual, 'same')[n//2+1:] # calucate autocorrelation\n",
    "ac_residual /= ac_residual[0] # normalize by first value\n",
    "\n",
    "lag = np.arange(len(ac_residual))*(1/(60*24))/7 # lag in weeks\n",
    "\n",
    "# plot autocorrelation\n",
    "plt.figure(figsize=(22,6));\n",
    "ax = plt.gca();\n",
    "plt.axhline(y=0, color='k',linewidth=1);\n",
    "plt.plot(lag, ac_residual, linewidth=3);\n",
    "plt.grid();\n",
    "plt.title('Autocorrelation Function: ' + base_asset + '-' + quote_asset);\n",
    "plt.ylabel('Autocorrelation');\n",
    "plt.xlabel('Lag (weeks)');\n",
    "ax.xaxis.set_major_locator(plt.MultipleLocator(1));"
   ]
  },
  {
   "cell_type": "markdown",
   "metadata": {},
   "source": [
    "# Partial Autocorrelation\n",
    "plt.figure(figsize=(22,6));\n",
    "pac = sm.tsa.stattools.pacf(order0_residual, nlags=500, method='ld');\n",
    "plt.plot(np.arange(len(pac))*(1/(24*60)), pac, linewidth=3);\n",
    "plt.grid();\n",
    "plt.title('Partial Autocorrelation');\n",
    "plt.ylabel('Partial Correlation Coefficient');\n",
    "plt.xlabel('Lag (days)');\n",
    "\n"
   ]
  },
  {
   "cell_type": "markdown",
   "metadata": {},
   "source": [
    "time = np.arange(len(price))*1/(60*24)\n",
    "price_loess_p1 = sm.nonparametric.lowess(endog=price,exog=time,frac=(50/len(price)),is_sorted=True,return_sorted=False)\n",
    "\n",
    "\n",
    "price_lowess_p1_pac = sm.tsa.stattools.pacf(price_loess_p1, nlags=500,method='ld');\n"
   ]
  },
  {
   "cell_type": "markdown",
   "metadata": {},
   "source": [
    "# plot LOWESS\n",
    "plt.figure(figsize=(22,6));\n",
    "ax = plt.gca();\n",
    "ax.plot(time[:1000], price[:1000],linewidth=3);\n",
    "ax.plot(time[:1000], price_loess_p1[:1000],linewidth=3);\n",
    "plt.title('LOWESS Smoothing on Price Data Sample');\n",
    "plt.xlabel('Time (days)');\n",
    "plt.ylabel('Price');"
   ]
  },
  {
   "cell_type": "markdown",
   "metadata": {},
   "source": [
    "residual_lowess = price-price_loess_p1\n",
    "residual_lowess = residual_lowess - np.mean(residual_lowess)\n",
    "plt.figure(figsize=(22,4))\n",
    "plt.scatter(time,residual_lowess,s=1)\n",
    "plt.title('First-Pass LOWESS Residual')\n",
    "plt.ylabel('Price Residual')\n",
    "plt.xlabel('Time (days)')"
   ]
  },
  {
   "cell_type": "markdown",
   "metadata": {},
   "source": [
    "nr = residual_lowess.size\n",
    "\n",
    "# Residual DST\n",
    "residual_fft = fft.dct(residual_lowess,norm=None)[1:nr//2] # sine amplitude of residual signal \n",
    "residual_freq = fft.fftfreq(nr, timestep)[1:nr//2]*7 # cycles per month\n",
    "residual_period = 1/fft_freq # period in months\n",
    "\n",
    "# Plot DST by wavelength\n",
    "plt.figure(figsize=(24,8))\n",
    "ax = plt.gca()\n",
    "ax.plot(residual_period, (2.0/n * np.abs(residual_fft)),linewidth=1,marker='o')\n",
    "ax.xaxis.set_major_locator(plt.MultipleLocator(5))\n",
    "plt.grid()\n",
    "plt.title('Discrete Sine Transform of LOWESS-Smoothed Price Residual: ' + base_asset + '-' + quote_asset)\n",
    "plt.ylabel('Residual Amplitude')\n",
    "plt.xlabel('Period (weeks)')\n",
    "\n",
    "# Plot DST by frequency\n",
    "plt.figure(figsize=(24,8));\n",
    "ax = plt.gca();\n",
    "ax.plot(residual_freq[:], (2.0/n * np.abs(residual_fft[:])),linewidth=1);\n",
    "plt.grid();\n",
    "plt.title('Discrete Sine Transform of LOWESS-Smoothed Price Residual: ' + base_asset + '-' + quote_asset);\n",
    "plt.ylabel('Price Amplitude');\n",
    "plt.xlabel('Cycles/Week');"
   ]
  },
  {
   "cell_type": "markdown",
   "metadata": {},
   "source": [
    "# Smoothed signal residual\n",
    "ac_lowess_residual = np.correlate(residual_lowess, residual_lowess, 'same')[nr//2+1:] # calucate autocorrelation\n",
    "ac_lowess_residual /= ac_lowess_residual[0] # normalize by first value\n",
    "\n",
    "lag = np.arange(len(ac_lowess_residual))*(1/(60*24))/7 # lag in weeks\n",
    "\n",
    "# plot autocorrelation\n",
    "plt.figure(figsize=(22,6));\n",
    "ax = plt.gca();\n",
    "plt.axhline(y=0, color='k',linewidth=1);\n",
    "plt.plot(lag, ac_lowess_residual, linewidth=3);\n",
    "plt.grid();\n",
    "plt.title('LOWESS Residual Autocorrelation Function: ' + base_asset + '-' + quote_asset);\n",
    "plt.ylabel('Autocorrelation');\n",
    "plt.xlabel('Lag (weeks)');\n",
    "ax.xaxis.set_major_locator(plt.MultipleLocator(1));"
   ]
  },
  {
   "cell_type": "markdown",
   "metadata": {},
   "source": [
    "# Partial Autocorrelation\n",
    "plt.figure(figsize=(22,6));\n",
    "lowess_pac = sm.tsa.stattools.pacf(residual_lowess, nlags=500, method='ld');\n",
    "plt.plot(np.arange(len(lowess_pac))*(1/(24*60)), lowess_pac, linewidth=3);\n",
    "plt.grid();\n",
    "plt.title('Partial Autocorrelation');\n",
    "plt.ylabel('Partial Correlation Coefficient');\n",
    "plt.xlabel('Lag (days)');\n"
   ]
  },
  {
   "cell_type": "markdown",
   "metadata": {},
   "source": [
    "klines.shape"
   ]
  },
  {
   "cell_type": "markdown",
   "metadata": {},
   "source": [
    "plt.figure(figsize=(22,4))\n",
    "smoothed_price_xcorrelation = np.correlate(price_loess_p1, price, 'same')[nr//2+1:]\n",
    "smoothed_price_xcorrelation /= smoothed_price_xcorrelation[0]\n",
    "plt.plot(lag, smoothed_price_xcorrelation)\n",
    "plt.title('Loess-Smoothed Autocorrelation')\n"
   ]
  },
  {
   "cell_type": "code",
   "execution_count": null,
   "metadata": {},
   "outputs": [],
   "source": [
    "complete_data = klines.drop(['Open Time UTC','Close Time UTC'],axis='columns')\n",
    "\n",
    "# add difference data to complete data df\n",
    "diff1 = complete_data.shift(-1).drop(labels=['Open ' + quote_asset, 'High ' + quote_asset, 'Low ' + quote_asset, 'Close ' + quote_asset],axis='columns').rename(columns={x: x + ' DIFF -1' for x in klines.columns})\n",
    "diff2 = complete_data.shift(-2).drop(labels=['Open ' + quote_asset, 'High ' + quote_asset, 'Low ' + quote_asset, 'Close ' + quote_asset],axis='columns').rename(columns={x: x + ' DIFF -2' for x in klines.columns})\n",
    "diff3 = complete_data.shift(-3).drop(labels=['Open ' + quote_asset, 'High ' + quote_asset, 'Low ' + quote_asset, 'Close ' + quote_asset],axis='columns').rename(columns={x: x + ' DIFF -3' for x in klines.columns})\n",
    "\n",
    "complete_data = complete_data.join(other=[diff1,diff2,diff3],how='inner').dropna()\n",
    "\n",
    "complete_data.columns\n",
    "complete_data\n"
   ]
  },
  {
   "cell_type": "code",
   "execution_count": null,
   "metadata": {},
   "outputs": [],
   "source": [
    "# pairplot = sb.pairplot(complete_data.iloc[:,:].sample(n=1660, axis='index'), diag_kind='kde', kind='scatter',height=5, corner=True,plot_kws=dict(marker='+',linewidth=1))\n",
    "\n",
    "# pairplot.savefig('pairplot_' + trade_pair + '.png',transparent=False)\n"
   ]
  },
  {
   "cell_type": "code",
   "execution_count": null,
   "metadata": {},
   "outputs": [],
   "source": [
    "pairwise = pg.pairwise_corr(complete_data.sample(10000), method='spearman', alternative='two-sided',padjust='bonf').sort_values(by='r',ascending=False)\n",
    "pairwise"
   ]
  },
  {
   "cell_type": "code",
   "execution_count": null,
   "metadata": {},
   "outputs": [],
   "source": [
    "pg.pcorr(complete_data).head()\n",
    "pairwise.head(50)"
   ]
  },
  {
   "cell_type": "code",
   "execution_count": null,
   "metadata": {},
   "outputs": [],
   "source": [
    "corr_data = pairwise.sort_values(by='r',ascending=False).drop(columns=['method','alternative','n','power','p-unc'])\n",
    "corr_data = corr_data[(~corr_data['X'].str.contains(base_asset)) ].set_index('X').drop(columns='p-adjust')"
   ]
  },
  {
   "cell_type": "code",
   "execution_count": null,
   "metadata": {},
   "outputs": [],
   "source": [
    "corr_data\n",
    "plt.figure(figsize=(10,10))\n",
    "corr_data.r.plot.density(bw_method='scott')\n",
    "plt.title('Smoothed Distribution of\\nSpearman Correlation Coefficient for Predictive Pairs')\n",
    "plt.xlabel('r-value')\n",
    "plt.ylabel('PDF')"
   ]
  },
  {
   "cell_type": "code",
   "execution_count": null,
   "metadata": {},
   "outputs": [],
   "source": [
    "corr_summary = corr_data.groupby(by='Y')"
   ]
  },
  {
   "cell_type": "code",
   "execution_count": null,
   "metadata": {},
   "outputs": [],
   "source": [
    "for x in corr_summary.groups:\n",
    "    if ('Percent Change ' + quote_asset in corr_summary.get_group(x).index):\n",
    "        corr_summary.get_group(x).sort_values(by='r',ascending=False)[np.abs(corr_summary.get_group(x)['r'])>0.10]"
   ]
  },
  {
   "cell_type": "code",
   "execution_count": null,
   "metadata": {},
   "outputs": [],
   "source": [
    "df(complete_data.corr()['Maker-Taker Volume ' + quote_asset + ' Ratio']).transpose()[[colname for colname in complete_data.columns if not 'BTC' in colname]].transpose().sort_values(by='Maker-Taker Volume ' + quote_asset + ' Ratio',ascending=False)\n",
    "\n",
    "df(complete_data.corr()['Percent Change ' + quote_asset]).transpose()[[colname for colname in complete_data.columns if not 'BTC' in colname]].transpose().sort_values(by='Percent Change ' + quote_asset,ascending=False)\n"
   ]
  },
  {
   "cell_type": "code",
   "execution_count": null,
   "metadata": {},
   "outputs": [],
   "source": [
    "lagged_correlation = df.from_dict(\n",
    "    {x: [complete_data['Percent Change ' + quote_asset].corr(complete_data[x].shift(-t)) for t in range(10)] for x in complete_data.columns})\n",
    "lagged_correlation = lagged_correlation*100\n",
    "\n"
   ]
  },
  {
   "cell_type": "code",
   "execution_count": null,
   "metadata": {},
   "outputs": [],
   "source": [
    "x_corr_vol = lagged_correlation[[col for col in lagged_correlation.columns if 'Volume ' + quote_asset in col]].transpose().style.background_gradient(cmap=sb.color_palette(\"coolwarm\", as_cmap=True),axis=0)\n",
    "\n"
   ]
  },
  {
   "cell_type": "code",
   "execution_count": null,
   "metadata": {},
   "outputs": [],
   "source": [
    "x_corr_vol"
   ]
  },
  {
   "cell_type": "code",
   "execution_count": null,
   "metadata": {},
   "outputs": [],
   "source": [
    "plt.figure(figsize=(22,8));\n",
    "plt.plot(lagged_correlation[[col for col in lagged_correlation.columns if 'Volume ' + quote_asset in col or 'Ratio' in col]]);\n",
    "plt.legend(lagged_correlation[[col for col in lagged_correlation.columns if 'Volume ' + quote_asset in col or 'Ratio' in col]].columns);\n",
    "plt.title('Cross Correlation Between Price Change Percentage and Predictors');\n",
    "plt.ylabel('r-value');\n",
    "plt.xlabel('lag (minutes)');\n",
    "plt.xticks(range(0,10));\n",
    "plt.grid();\n",
    "\n"
   ]
  },
  {
   "cell_type": "code",
   "execution_count": null,
   "metadata": {},
   "outputs": [],
   "source": [
    "df(complete_data.columns)"
   ]
  },
  {
   "cell_type": "code",
   "execution_count": null,
   "metadata": {},
   "outputs": [],
   "source": [
    "# check normality assumption in Maker-Taker Volume Ratio\n",
    "\n",
    "# plot KDE, and flip for visual symmetry check\n",
    "mtvol_sample = complete_data.sample(100000)['Maker-Taker Volume ' + quote_asset + ' Ratio']\n",
    "\n",
    "mtvol_desc_stats = mtvol_sample.describe()\n",
    "mtvol_sample_normalized = (mtvol_sample - mtvol_desc_stats['mean']) / mtvol_desc_stats['std']\n",
    "\n",
    "# plot QQ, and flip 180 deg for visual symmetry check\n",
    "ax = plt.figure(figsize=(20,10));\n",
    "mtvol_sample_normalized.plot.kde(lw=3,label='KDE Estimate');\n",
    "\n",
    "(-1.0*mtvol_sample_normalized).plot.kde(lw=3,label='Reversed KDE Estimate');\n",
    "plt.legend()\n",
    "\n",
    "plt.title('KDE for the Maker-Taker Volume Ratio');\n",
    "\n",
    "sm.qqplot(complete_data['Maker-Taker Volume ' + quote_asset + ' Ratio'],\n",
    "fit=True,markersize=2,label='Maker-Taker QQ').set_size_inches((10,10));\n",
    "\n",
    "ax = plt.gca();\n",
    "ax.scatter(-ax.lines[0].get_xdata(),-ax.lines[0].get_ydata(),s=2,c='r',label='$180^\\circ$ rotated QQ Plot');\n",
    "ax.axline([-4,-4],[4,4],c='k',label='Normal Distribution');\n",
    "\n",
    "plt.title('Maker-Taker Volume Ratio QQ Plot');\n",
    "plt.legend();\n",
    "\n",
    "print('Maker-Taker Ratio Kurtosis = ' + str(complete_data['Maker-Taker Volume ' + quote_asset + ' Ratio'].kurtosis()))\n",
    "\n",
    "# distribution is appproximately normal with slight left-skew and slight negative kurtosis\n"
   ]
  },
  {
   "cell_type": "code",
   "execution_count": null,
   "metadata": {},
   "outputs": [],
   "source": [
    "plt.figure(figsize=(24,12));\n",
    "# ax = plt.axes(projection='3d')\n",
    "plt.axhline(0,color='black',lw=1);\n",
    "plt.axvline(0,color='black',lw=1);\n",
    "\n",
    "plot_sample = complete_data.sample(16000)\n",
    "plot_sample['Maker-Taker Volume ' + quote_asset + ' Ratio']\n",
    "\n",
    "plt.scatter(plot_sample['Maker-Taker Volume ' + quote_asset + ' Ratio']-0.5,plot_sample['Percent Change ' + quote_asset],\n",
    "c=plot_sample.index, ###\n",
    "# c=np.log(1/((plot_sample['Price-Taker Buy Volume ' + quote_asset + ' Ratio']))),\n",
    "s=3,alpha=0.3,cmap='jet');\n",
    "plt.colorbar();\n",
    "plt.xlabel('Maker-Taker Volume Ratio');\n",
    "plt.ylabel('Price Change (%)');\n",
    "\n",
    "#ax=plt.gca();\n",
    "#plt.xlim([0,1])\n",
    "#plt.ylim([-2,2])\n",
    "\n",
    "#ax.yaxis.set_ticks(np.arange(-2,2.2,0.2));\n",
    "\n",
    "plt.yscale('symlog',linthreshy = 0.001);\n",
    "plt.xscale('symlog',linthreshx = 0.001);\n",
    "#plt.colorbar();\n"
   ]
  },
  {
   "cell_type": "code",
   "execution_count": null,
   "metadata": {},
   "outputs": [],
   "source": [
    "plt.figure(figsize=(22,8))\n",
    "plt.scatter(plot_sample.index, plot_sample['Number of Trades'],s=1,alpha=0.2)\n",
    "\n",
    "\n",
    "plt.figure(figsize=(22,8))\n",
    "sb.violinplot(y=plot_sample['Number of Trades'],x=plot_sample.index)\n",
    "\n",
    "df(plot_sample['Volume ' + quote_asset]).sample(10000).plot.hist(bins=500)\n",
    "\n",
    "df(plot_sample['Volume ' + quote_asset]).describe()\n"
   ]
  },
  {
   "cell_type": "code",
   "execution_count": null,
   "metadata": {},
   "outputs": [],
   "source": []
  },
  {
   "cell_type": "code",
   "execution_count": null,
   "metadata": {},
   "outputs": [],
   "source": []
  },
  {
   "cell_type": "code",
   "execution_count": null,
   "metadata": {},
   "outputs": [],
   "source": []
  },
  {
   "cell_type": "code",
   "execution_count": null,
   "metadata": {},
   "outputs": [],
   "source": []
  },
  {
   "cell_type": "code",
   "execution_count": null,
   "metadata": {},
   "outputs": [],
   "source": []
  },
  {
   "cell_type": "code",
   "execution_count": null,
   "metadata": {},
   "outputs": [],
   "source": []
  },
  {
   "cell_type": "code",
   "execution_count": null,
   "metadata": {},
   "outputs": [],
   "source": []
  },
  {
   "cell_type": "code",
   "execution_count": null,
   "metadata": {},
   "outputs": [],
   "source": []
  }
 ],
 "metadata": {
  "interpreter": {
   "hash": "cfe909d572e193ad41cf918c300469a7d3830a4603eff0b853f9ccc52cab868d"
  },
  "kernelspec": {
   "display_name": "Python 3.8.5 64-bit ('base': conda)",
   "language": "python",
   "name": "python3"
  },
  "language_info": {
   "codemirror_mode": {
    "name": "ipython",
    "version": 3
   },
   "file_extension": ".py",
   "mimetype": "text/x-python",
   "name": "python",
   "nbconvert_exporter": "python",
   "pygments_lexer": "ipython3",
   "version": "3.9.7"
  },
  "orig_nbformat": 4
 },
 "nbformat": 4,
 "nbformat_minor": 2
}
